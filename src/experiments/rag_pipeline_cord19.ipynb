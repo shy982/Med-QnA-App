{
 "cells": [
  {
   "cell_type": "code",
   "execution_count": 1,
   "id": "43e87636-0e7f-496b-a797-68b544027561",
   "metadata": {},
   "outputs": [],
   "source": [
    "from dotenv import load_dotenv\n",
    "from langchain.embeddings import OpenAIEmbeddings\n",
    "from langchain.llms import OpenAI\n",
    "from langchain.prompts import ChatPromptTemplate\n",
    "from langchain.schema.output_parser import StrOutputParser\n",
    "from langchain.schema.runnable import RunnablePassthrough\n",
    "from langchain.vectorstores import FAISS\n",
    "\n",
    "import os\n",
    "import pickle"
   ]
  },
  {
   "cell_type": "code",
   "execution_count": 2,
   "id": "f7452414-aab4-4ebf-8055-cb7b60afaae8",
   "metadata": {},
   "outputs": [],
   "source": [
    "# Load index from file"
   ]
  },
  {
   "cell_type": "code",
   "execution_count": 3,
   "id": "540fac6c-474e-4175-bab8-e38e082dbec4",
   "metadata": {},
   "outputs": [
    {
     "data": {
      "text/plain": [
       "True"
      ]
     },
     "execution_count": 3,
     "metadata": {},
     "output_type": "execute_result"
    }
   ],
   "source": [
    "load_dotenv()"
   ]
  },
  {
   "cell_type": "code",
   "execution_count": 4,
   "id": "de608433-12b4-4d78-8268-23f595395125",
   "metadata": {},
   "outputs": [],
   "source": [
    "loaded_faiss_vs = FAISS.load_local(\n",
    "    folder_path=\"./vectordb/faiss/cord19/\",\n",
    "    embeddings=OpenAIEmbeddings())"
   ]
  },
  {
   "cell_type": "code",
   "execution_count": 5,
   "id": "a0644015-4725-4ad5-a0fb-49438b1edffe",
   "metadata": {},
   "outputs": [],
   "source": [
    "retriever = loaded_faiss_vs.as_retriever(search_kwargs={'k': 5})"
   ]
  },
  {
   "cell_type": "code",
   "execution_count": null,
   "id": "c8742638-b6f2-42f8-871e-2fcf556da058",
   "metadata": {},
   "outputs": [],
   "source": []
  },
  {
   "cell_type": "code",
   "execution_count": 6,
   "id": "c2c02641-d55d-47c4-83f9-c2f5f2206fa4",
   "metadata": {},
   "outputs": [],
   "source": [
    "# Define the RAG pipeline"
   ]
  },
  {
   "cell_type": "code",
   "execution_count": 7,
   "id": "fda959eb-26a9-4b9a-9438-b6c579ce5216",
   "metadata": {},
   "outputs": [],
   "source": [
    "model = 'gpt-3.5-turbo-instruct'\n",
    "llm = OpenAI(model_name=model, openai_api_key=os.getenv(\"OPENAI_API_KEY\"))"
   ]
  },
  {
   "cell_type": "code",
   "execution_count": 8,
   "id": "6e5e8dea-2e7e-4cdd-882b-0b4e2101fa6f",
   "metadata": {},
   "outputs": [],
   "source": [
    "template = \"\"\"Answer the question or Explain the topic given this additional context: {context}\n",
    "Question: {question}\"\"\""
   ]
  },
  {
   "cell_type": "code",
   "execution_count": 9,
   "id": "e89e4cb9-dc00-4e85-9b97-cf2feb30256d",
   "metadata": {},
   "outputs": [],
   "source": [
    "prompt = ChatPromptTemplate.from_template(template)"
   ]
  },
  {
   "cell_type": "code",
   "execution_count": 10,
   "id": "e6f04347-22d2-4fc1-8c71-4f99d12d6950",
   "metadata": {},
   "outputs": [
    {
     "name": "stdout",
     "output_type": "stream",
     "text": [
      "Documents loaded successfully.\n"
     ]
    }
   ],
   "source": [
    "docs_file_path = './dataset/cord19/documents.pkl'\n",
    "with open(docs_file_path, 'rb') as file:\n",
    "    docs = pickle.load(file)\n",
    "print(\"Documents loaded successfully.\")"
   ]
  },
  {
   "cell_type": "code",
   "execution_count": 11,
   "id": "c72f8afc-a0c3-4985-88c7-3c2e10010d3b",
   "metadata": {},
   "outputs": [],
   "source": [
    "def format_docs(_docs):\n",
    "    ls = []\n",
    "    for doc in _docs:\n",
    "        if doc.page_content in docs:\n",
    "            ls.append(docs[doc.page_content][\"text\"][:800])\n",
    "    return ls"
   ]
  },
  {
   "cell_type": "code",
   "execution_count": 12,
   "id": "f8bc8a2f-8b2a-45ca-a958-58bfccfbc9fb",
   "metadata": {},
   "outputs": [],
   "source": [
    "chain = ({\"context\": retriever | format_docs, \"question\": RunnablePassthrough()} \n",
    "         | prompt \n",
    "         | llm \n",
    "         | StrOutputParser())"
   ]
  },
  {
   "cell_type": "code",
   "execution_count": null,
   "id": "111a2ec6-7b54-4b3a-b135-df7f954a573c",
   "metadata": {},
   "outputs": [],
   "source": []
  },
  {
   "cell_type": "code",
   "execution_count": 13,
   "id": "1eab7ac2-ca86-4a5d-9384-bf1b5a942670",
   "metadata": {},
   "outputs": [],
   "source": [
    "# Run the RAG pipeline"
   ]
  },
  {
   "cell_type": "code",
   "execution_count": 14,
   "id": "6dc823c0-dc3c-4617-b965-400419b9d9c8",
   "metadata": {},
   "outputs": [
    {
     "name": "stdout",
     "output_type": "stream",
     "text": [
      "Query embeddings loaded successfully.\n"
     ]
    }
   ],
   "source": [
    "query_file_path = './openai_embeddings/cord19/query_embeddings.pkl'\n",
    "with open(query_file_path, 'rb') as file:\n",
    "    loaded_queries = pickle.load(file)\n",
    "print(\"Query embeddings loaded successfully.\")"
   ]
  },
  {
   "cell_type": "code",
   "execution_count": 15,
   "id": "2beb653a-ece4-404e-a096-9ac85d7cdaa1",
   "metadata": {},
   "outputs": [
    {
     "data": {
      "text/plain": [
       "\"what is the origin of COVID-19 (seeking range of information about the SARS-CoV-2 virus's origin, including its evolution, animal source, and first transmission into humans)\""
      ]
     },
     "execution_count": 15,
     "metadata": {},
     "output_type": "execute_result"
    }
   ],
   "source": [
    "loaded_queries[\"1\"][\"text\"]"
   ]
  },
  {
   "cell_type": "code",
   "execution_count": 16,
   "id": "5ea801df-49f0-4c71-ad34-0ac010d71cc3",
   "metadata": {},
   "outputs": [
    {
     "data": {
      "text/plain": [
       "'\\n\\nAnswer: The origin of COVID-19, caused by the SARS-CoV-2 virus, is still under investigation. However, based on current evidence, it is believed that the virus likely evolved from a bat coronavirus and was transmitted to humans through an intermediate animal host, possibly a pangolin. The first known cases of COVID-19 were reported in Wuhan, China in December 2019, with evidence suggesting that the virus may have originated from a wet market where live animals were sold for food. Further research is needed to fully understand the exact origins and evolution of the SARS-CoV-2 virus.'"
      ]
     },
     "execution_count": 16,
     "metadata": {},
     "output_type": "execute_result"
    }
   ],
   "source": [
    "chain.invoke(loaded_queries[\"1\"][\"text\"])"
   ]
  },
  {
   "cell_type": "code",
   "execution_count": 17,
   "id": "267ab9a1-74b9-4a7a-b3f1-458348095ab8",
   "metadata": {},
   "outputs": [
    {
     "data": {
      "text/plain": [
       "'\\n\\nThe origin of COVID-19 can be traced back to a wet market in Wuhan, China, where the first cases were reported in December 2019. The virus responsible for COVID-19 is called SARS-CoV-2 and it is a type of coronavirus, a large family of viruses that also includes the viruses responsible for SARS and MERS.\\n\\nScientists believe that the SARS-CoV-2 virus originated in bats and then jumped to an intermediate animal host, possibly a pangolin, before being transmitted to humans. This is similar to the origin of SARS, which is believed to have originated in bats and then spread to civet cats before infecting humans.\\n\\nThe exact mechanism of how the virus was transmitted from animals to humans is still under investigation. It is possible that the virus was transmitted through direct contact with an infected animal or through the consumption of contaminated animal products.\\n\\nThe SARS-CoV-2 virus is thought to have evolved from a virus found in bats, but it is not yet clear how it acquired the ability to infect humans. Some experts believe that the virus may have undergone genetic changes while circulating in an intermediate animal host, allowing it to gain the ability to infect humans.\\n\\nIt is also important to note that the virus responsible for COVID'"
      ]
     },
     "execution_count": 17,
     "metadata": {},
     "output_type": "execute_result"
    }
   ],
   "source": [
    "llm(loaded_queries[\"1\"][\"text\"])"
   ]
  },
  {
   "cell_type": "code",
   "execution_count": 18,
   "id": "34c4e02f-a39e-4b3d-aa9c-f79a6726f598",
   "metadata": {},
   "outputs": [],
   "source": [
    "# loaded_queries[\"PLAIN-23\"][\"text\"]"
   ]
  },
  {
   "cell_type": "code",
   "execution_count": 19,
   "id": "ea18a59e-4674-487c-a65d-1005392fa410",
   "metadata": {},
   "outputs": [],
   "source": [
    "# chain.invoke(loaded_queries[\"PLAIN-23\"][\"text\"])"
   ]
  },
  {
   "cell_type": "code",
   "execution_count": 20,
   "id": "dc089bae-cca6-4675-91ae-c73bef27c609",
   "metadata": {},
   "outputs": [],
   "source": [
    "# loaded_queries[\"PLAIN-33\"][\"text\"]"
   ]
  },
  {
   "cell_type": "code",
   "execution_count": 21,
   "id": "39d6714b-7819-473c-9a9b-187beced441a",
   "metadata": {},
   "outputs": [],
   "source": [
    "# chain.invoke(loaded_queries[\"PLAIN-33\"][\"text\"])"
   ]
  },
  {
   "cell_type": "code",
   "execution_count": 22,
   "id": "bda6fe20-29a0-46a8-b2bc-229e3eb9dc36",
   "metadata": {},
   "outputs": [],
   "source": [
    "# loaded_queries[\"PLAIN-78\"][\"text\"]"
   ]
  },
  {
   "cell_type": "code",
   "execution_count": 23,
   "id": "f700f468-8214-4b19-9bbb-d4f2ab2ec292",
   "metadata": {},
   "outputs": [],
   "source": [
    "# chain.invoke(loaded_queries[\"PLAIN-78\"][\"text\"])"
   ]
  },
  {
   "cell_type": "code",
   "execution_count": 24,
   "id": "14f1082c-fec0-4541-949d-d56d79b1126e",
   "metadata": {},
   "outputs": [],
   "source": [
    "# loaded_queries[\"PLAIN-143\"][\"text\"]"
   ]
  },
  {
   "cell_type": "code",
   "execution_count": 25,
   "id": "e37d13de-f0a1-403d-94ef-6d6395f8f8f0",
   "metadata": {},
   "outputs": [],
   "source": [
    "# chain.invoke(loaded_queries[\"PLAIN-143\"][\"text\"])"
   ]
  },
  {
   "cell_type": "code",
   "execution_count": 26,
   "id": "cde46e52-d025-4e54-bbc6-aa143d86037f",
   "metadata": {},
   "outputs": [],
   "source": [
    "# loaded_queries[\"PLAIN-165\"][\"text\"]"
   ]
  },
  {
   "cell_type": "code",
   "execution_count": 27,
   "id": "ec8088e7-5975-4f4b-9c81-fc762d87ba6a",
   "metadata": {},
   "outputs": [],
   "source": [
    "# chain.invoke(loaded_queries[\"PLAIN-165\"][\"text\"])"
   ]
  },
  {
   "cell_type": "code",
   "execution_count": null,
   "id": "213428d8-af79-491c-b102-54392296be77",
   "metadata": {},
   "outputs": [],
   "source": []
  },
  {
   "cell_type": "code",
   "execution_count": 28,
   "id": "a701f82e-380b-42bc-87f9-38694729fe32",
   "metadata": {},
   "outputs": [],
   "source": [
    "# llm(\"If I have inflammatory bowel disease, how will smoking affect my risk of developing colorectal cancer?\")"
   ]
  },
  {
   "cell_type": "code",
   "execution_count": 29,
   "id": "acbd136b-f7b5-4622-9b26-525d43df8377",
   "metadata": {},
   "outputs": [],
   "source": [
    "# chain.invoke(\"If I have inflammatory bowel disease, how will smoking affect my risk of developing colorectal cancer?\")\n"
   ]
  },
  {
   "cell_type": "code",
   "execution_count": null,
   "id": "ee22cc58-76a4-4440-924f-38d9dc416b36",
   "metadata": {},
   "outputs": [],
   "source": []
  }
 ],
 "metadata": {
  "kernelspec": {
   "display_name": "Python 3 (ipykernel)",
   "language": "python",
   "name": "python3"
  },
  "language_info": {
   "codemirror_mode": {
    "name": "ipython",
    "version": 3
   },
   "file_extension": ".py",
   "mimetype": "text/x-python",
   "name": "python",
   "nbconvert_exporter": "python",
   "pygments_lexer": "ipython3",
   "version": "3.9.6"
  }
 },
 "nbformat": 4,
 "nbformat_minor": 5
}
