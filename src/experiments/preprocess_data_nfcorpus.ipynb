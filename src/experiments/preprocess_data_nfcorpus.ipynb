{
 "cells": [
  {
   "cell_type": "code",
   "execution_count": 35,
   "id": "d9601482-85ed-47ac-8d78-0c6be725d4e3",
   "metadata": {},
   "outputs": [],
   "source": [
    "from dotenv import load_dotenv\n",
    "from langchain.embeddings import OpenAIEmbeddings\n",
    "from langchain.vectorstores import FAISS\n",
    "from langchain.vectorstores.utils import DistanceStrategy\n",
    "from tqdm import tqdm \n",
    "\n",
    "import ir_datasets\n",
    "import openai\n",
    "import os\n",
    "import pickle"
   ]
  },
  {
   "cell_type": "code",
   "execution_count": null,
   "id": "14df2039-a0a2-447a-a88d-2a77b2e8754f",
   "metadata": {},
   "outputs": [],
   "source": [
    "# Get Dataset"
   ]
  },
  {
   "cell_type": "code",
   "execution_count": 3,
   "id": "ec1e74f1-1e8c-4826-8110-eff959af8de6",
   "metadata": {},
   "outputs": [],
   "source": [
    "dataset = ir_datasets.load(\"beir/nfcorpus/test\")"
   ]
  },
  {
   "cell_type": "code",
   "execution_count": 6,
   "id": "79c85b8c-1684-4cbd-82c7-ca020ef9eda2",
   "metadata": {},
   "outputs": [],
   "source": [
    "queries = {}\n",
    "for query in dataset.queries_iter():\n",
    "    queries[query.query_id] = {\"text\":query.text}"
   ]
  },
  {
   "cell_type": "code",
   "execution_count": 11,
   "id": "6a6723c7-4d05-4c90-a826-499fe2098819",
   "metadata": {},
   "outputs": [],
   "source": [
    "with open(\"./dataset/nfcorpus/queries.pkl\", \"wb\") as f:\n",
    "    pickle.dump(queries, f)"
   ]
  },
  {
   "cell_type": "code",
   "execution_count": 7,
   "id": "de5ebe88-f417-499c-93a3-9c609a9df097",
   "metadata": {},
   "outputs": [],
   "source": [
    "docs = {}\n",
    "count = 0\n",
    "for doc in dataset.docs_iter():\n",
    "    docs[doc.doc_id] = {\"text\": doc.text}\n",
    "    count += 1"
   ]
  },
  {
   "cell_type": "code",
   "execution_count": 12,
   "id": "b31bc3aa",
   "metadata": {},
   "outputs": [],
   "source": [
    "with open(\"./dataset/nfcorpus/documents.pkl\", \"wb\") as f:\n",
    "    pickle.dump(docs, f)"
   ]
  },
  {
   "cell_type": "code",
   "execution_count": 8,
   "id": "25318b70-a733-4378-9c81-277bf887a8fc",
   "metadata": {},
   "outputs": [],
   "source": [
    "rel_set = {}\n",
    "for qrel in dataset.qrels_iter():\n",
    "    if qrel.query_id not in rel_set:\n",
    "        rel_set[qrel.query_id] = []\n",
    "    if qrel.relevance > 0: \n",
    "        rel_set[qrel.query_id].append(qrel.doc_id)"
   ]
  },
  {
   "cell_type": "code",
   "execution_count": 13,
   "id": "fbf00bda-6ba3-4cf0-968a-829c9ca0bdae",
   "metadata": {},
   "outputs": [],
   "source": [
    "with open(\"./dataset/nfcorpus/relevance_set.pkl\", \"wb\") as f:\n",
    "    pickle.dump(rel_set, f)"
   ]
  },
  {
   "cell_type": "code",
   "execution_count": null,
   "id": "14735192-e9a2-4b28-9456-e2825fb7a019",
   "metadata": {},
   "outputs": [],
   "source": []
  },
  {
   "cell_type": "code",
   "execution_count": null,
   "id": "f2bc9250-49b7-4168-b65d-65c087f4a18f",
   "metadata": {},
   "outputs": [],
   "source": [
    "# Get OpenAI Embeddings"
   ]
  },
  {
   "cell_type": "code",
   "execution_count": 21,
   "id": "20fdecbd-044e-4b5f-8e0c-d740b7926117",
   "metadata": {},
   "outputs": [
    {
     "data": {
      "text/plain": [
       "True"
      ]
     },
     "execution_count": 21,
     "metadata": {},
     "output_type": "execute_result"
    }
   ],
   "source": [
    "load_dotenv()"
   ]
  },
  {
   "cell_type": "code",
   "execution_count": 22,
   "id": "e6d77ae2-b368-4f0d-bd4d-e753da05db16",
   "metadata": {},
   "outputs": [],
   "source": [
    "client = openai.OpenAI(api_key = os.getenv(\"OPENAI_API_KEY\"))"
   ]
  },
  {
   "cell_type": "code",
   "execution_count": 23,
   "id": "4eba1df7-81fb-4ec6-ae88-7671de4eda15",
   "metadata": {},
   "outputs": [],
   "source": [
    "#### API CALL WARNING ####\n",
    "\n",
    "def get_embedding(text, model=\"text-embedding-ada-002\"):\n",
    "    text = text.replace(\"\\n\", \" \")\n",
    "    response = client.embeddings.create(input=[text], model=model)\n",
    "    if response and hasattr(response, 'data') and response.data:\n",
    "        embedding = response.data[0].embedding\n",
    "        return embedding\n",
    "    else:\n",
    "        print(\"Invalid response or no embedding data received.\")\n",
    "        return None"
   ]
  },
  {
   "cell_type": "code",
   "execution_count": 28,
   "id": "cb610a0f-17a7-4393-bbf8-8fa8c47227d6",
   "metadata": {},
   "outputs": [],
   "source": [
    "# get_embedding(queries[\"PLAIN-2\"][\"text\"])"
   ]
  },
  {
   "cell_type": "code",
   "execution_count": null,
   "id": "b68507c2-1b0d-4621-b75a-6e16981f32b2",
   "metadata": {},
   "outputs": [],
   "source": [
    "for idx, query in tqdm(queries.items(), desc = 'Generating Query Embeddings'):\n",
    "    query_text = query['text']\n",
    "    queries[idx] = {'text': query_text, 'embedding': get_embedding(query_text)}"
   ]
  },
  {
   "cell_type": "code",
   "execution_count": null,
   "id": "85b034c4-0fc5-4af9-a438-a7f3fba5af2e",
   "metadata": {},
   "outputs": [],
   "source": [
    "for doc_id in tqdm(docs, desc = 'Generating Documents Embeddings'):\n",
    "    combined_text =  docs[doc_id]['text']\n",
    "    docs[doc_id]['embedding'] = get_embedding(combined_text)"
   ]
  },
  {
   "cell_type": "code",
   "execution_count": 30,
   "id": "27280c27-be67-4c18-8167-fa8721747f96",
   "metadata": {},
   "outputs": [],
   "source": [
    "query_file_path = './openai_embeddings/nfcorpus/query_embeddings.pkl'\n",
    "docs_file_path = './openai_embeddings/nfcorpus/doc_embeddings.pkl'"
   ]
  },
  {
   "cell_type": "code",
   "execution_count": null,
   "id": "71f14baf-3bdf-44f0-8d27-9cbd4da0ecbb",
   "metadata": {},
   "outputs": [],
   "source": [
    "with open(query_file_path, \"wb\") as f:\n",
    "    pickle.dump(queries, f)"
   ]
  },
  {
   "cell_type": "code",
   "execution_count": null,
   "id": "5eea9c53-3854-489e-90cd-3ec05fadfe86",
   "metadata": {},
   "outputs": [],
   "source": [
    "with open(docs_file_path, \"wb\") as f:\n",
    "    pickle.dump(docs, f)"
   ]
  },
  {
   "cell_type": "code",
   "execution_count": null,
   "id": "33be5f3e-9c08-469e-a48f-87236438a8ea",
   "metadata": {},
   "outputs": [],
   "source": []
  },
  {
   "cell_type": "code",
   "execution_count": null,
   "id": "c21c2939-820b-4f64-8ca8-aa3f5983117c",
   "metadata": {},
   "outputs": [],
   "source": [
    "# Create VectorDB Index"
   ]
  },
  {
   "cell_type": "code",
   "execution_count": 32,
   "id": "5ca0a07a-1957-486b-ad0f-6be5b0a06cd4",
   "metadata": {},
   "outputs": [
    {
     "name": "stdout",
     "output_type": "stream",
     "text": [
      "Document embeddings loaded successfully.\n"
     ]
    }
   ],
   "source": [
    "with open(docs_file_path, 'rb') as file:\n",
    "    loaded_docs = pickle.load(file)\n",
    "print(\"Document embeddings loaded successfully.\")"
   ]
  },
  {
   "cell_type": "code",
   "execution_count": 33,
   "id": "a80a5efb-1b0e-411a-a960-cc7446559b79",
   "metadata": {},
   "outputs": [],
   "source": [
    "data = []\n",
    "for doc in loaded_docs:\n",
    "    data.append((doc, loaded_docs[doc][\"embedding\"]))"
   ]
  },
  {
   "cell_type": "code",
   "execution_count": 36,
   "id": "cb55b5bd-fd03-4546-b58e-4e2c7e1583e3",
   "metadata": {},
   "outputs": [],
   "source": [
    "faiss_vs = FAISS.from_embeddings(\n",
    "    text_embeddings=data, \n",
    "    embedding=OpenAIEmbeddings(),\n",
    "    distance_strategy=DistanceStrategy.DOT_PRODUCT)"
   ]
  },
  {
   "cell_type": "code",
   "execution_count": 39,
   "id": "c4e96281-cf4c-4849-aac2-52e44ab148c6",
   "metadata": {},
   "outputs": [],
   "source": [
    "faiss_vs.save_local(\"./vectordb/faiss/nfcorpus/\")"
   ]
  },
  {
   "cell_type": "code",
   "execution_count": null,
   "id": "43b306c7-eb90-4b05-90f2-24e51ad4c867",
   "metadata": {},
   "outputs": [],
   "source": []
  }
 ],
 "metadata": {
  "kernelspec": {
   "display_name": "Python 3 (ipykernel)",
   "language": "python",
   "name": "python3"
  },
  "language_info": {
   "codemirror_mode": {
    "name": "ipython",
    "version": 3
   },
   "file_extension": ".py",
   "mimetype": "text/x-python",
   "name": "python",
   "nbconvert_exporter": "python",
   "pygments_lexer": "ipython3",
   "version": "3.9.6"
  }
 },
 "nbformat": 4,
 "nbformat_minor": 5
}
