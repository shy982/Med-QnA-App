{
 "cells": [
  {
   "cell_type": "code",
   "execution_count": 1,
   "id": "dc3e40fc-1b3e-4a67-af72-ee181e33adbf",
   "metadata": {},
   "outputs": [],
   "source": [
    "from dotenv import load_dotenv\n",
    "from langchain.embeddings import OpenAIEmbeddings\n",
    "from langchain.vectorstores import FAISS\n",
    "from langchain.vectorstores.utils import DistanceStrategy\n",
    "from tqdm import tqdm \n",
    "\n",
    "import ir_datasets\n",
    "import json\n",
    "import openai\n",
    "import os\n",
    "import pickle"
   ]
  },
  {
   "cell_type": "code",
   "execution_count": 2,
   "id": "dba44af6-662d-43dc-b844-9c8014ef5c55",
   "metadata": {},
   "outputs": [],
   "source": [
    "# Get Dataset"
   ]
  },
  {
   "cell_type": "code",
   "execution_count": 3,
   "id": "366a33ee-9a78-4fa9-9056-0e225f76b188",
   "metadata": {},
   "outputs": [],
   "source": [
    "with open(\"./dataset/pubmedqa/ori_pqal.json\", \"r\") as f:\n",
    "    data = json.load(f)"
   ]
  },
  {
   "cell_type": "code",
   "execution_count": 4,
   "id": "ebbe62b2-9381-4038-8117-6434b3ea2a59",
   "metadata": {},
   "outputs": [
    {
     "data": {
      "text/plain": [
       "'Do mitochondria play a role in remodelling lace plant leaves during programmed cell death?'"
      ]
     },
     "execution_count": 4,
     "metadata": {},
     "output_type": "execute_result"
    }
   ],
   "source": [
    "data[\"21645374\"][\"QUESTION\"]"
   ]
  },
  {
   "cell_type": "code",
   "execution_count": 5,
   "id": "df1e63be-e62d-4325-ac69-26fab11ef23c",
   "metadata": {},
   "outputs": [
    {
     "data": {
      "text/plain": [
       "['Programmed cell death (PCD) is the regulated death of cells within an organism. The lace plant (Aponogeton madagascariensis) produces perforations in its leaves through PCD. The leaves of the plant consist of a latticework of longitudinal and transverse veins enclosing areoles. PCD occurs in the cells at the center of these areoles and progresses outwards, stopping approximately five cells from the vasculature. The role of mitochondria during PCD has been recognized in animals; however, it has been less studied during PCD in plants.',\n",
       " 'The following paper elucidates the role of mitochondrial dynamics during developmentally regulated PCD in vivo in A. madagascariensis. A single areole within a window stage leaf (PCD is occurring) was divided into three areas based on the progression of PCD; cells that will not undergo PCD (NPCD), cells in early stages of PCD (EPCD), and cells in late stages of PCD (LPCD). Window stage leaves were stained with the mitochondrial dye MitoTracker Red CMXRos and examined. Mitochondrial dynamics were delineated into four categories (M1-M4) based on characteristics including distribution, motility, and membrane potential (ΔΨm). A TUNEL assay showed fragmented nDNA in a gradient over these mitochondrial stages. Chloroplasts and transvacuolar strands were also examined using live cell imaging. The possible importance of mitochondrial permeability transition pore (PTP) formation during PCD was indirectly examined via in vivo cyclosporine A (CsA) treatment. This treatment resulted in lace plant leaves with a significantly lower number of perforations compared to controls, and that displayed mitochondrial dynamics similar to that of non-PCD cells.']"
      ]
     },
     "execution_count": 5,
     "metadata": {},
     "output_type": "execute_result"
    }
   ],
   "source": [
    "data[\"21645374\"][\"CONTEXTS\"]"
   ]
  },
  {
   "cell_type": "code",
   "execution_count": 6,
   "id": "0f986dc9-d424-4a57-84ba-881e7ae1a838",
   "metadata": {},
   "outputs": [],
   "source": [
    "queries = {}\n",
    "for k in data:\n",
    "    queries[k] = {\"text\": data[k][\"QUESTION\"]}"
   ]
  },
  {
   "cell_type": "code",
   "execution_count": 7,
   "id": "569f75ae-a560-45f9-ab77-f27b8f69b1ad",
   "metadata": {},
   "outputs": [],
   "source": [
    "with open(\"./dataset/pubmedqa/queries.pkl\", \"wb\") as f:\n",
    "    pickle.dump(queries, f)"
   ]
  },
  {
   "cell_type": "code",
   "execution_count": 8,
   "id": "baf7dff6-1010-40ff-a695-5a5e0149a4ee",
   "metadata": {},
   "outputs": [],
   "source": [
    "docs = {}\n",
    "for k in data:\n",
    "    docs[k] = {\"text\": \"\\n\".join([c for c in data[k][\"CONTEXTS\"]])}"
   ]
  },
  {
   "cell_type": "code",
   "execution_count": 9,
   "id": "0a2c5302-5762-4bde-8c7e-25c5288490c9",
   "metadata": {},
   "outputs": [],
   "source": [
    "with open(\"./dataset/pubmedqa/documents.pkl\", \"wb\") as f:\n",
    "    pickle.dump(docs, f)"
   ]
  },
  {
   "cell_type": "code",
   "execution_count": 10,
   "id": "bb3a1081-033d-4fb5-8797-735bcc0b6dad",
   "metadata": {},
   "outputs": [],
   "source": [
    "rel_set = {}\n",
    "for k in data:\n",
    "    if k not in rel_set:\n",
    "        rel_set[k] = []\n",
    "    rel_set[k].append(k)"
   ]
  },
  {
   "cell_type": "code",
   "execution_count": 11,
   "id": "114ea141-9e72-48ff-9553-5c538f247419",
   "metadata": {},
   "outputs": [],
   "source": [
    "with open(\"./dataset/pubmedqa/relevance_set.pkl\", \"wb\") as f:\n",
    "    pickle.dump(rel_set, f)"
   ]
  },
  {
   "cell_type": "code",
   "execution_count": null,
   "id": "cc3e934b-1fae-4164-890a-22dd01025702",
   "metadata": {},
   "outputs": [],
   "source": []
  },
  {
   "cell_type": "code",
   "execution_count": 12,
   "id": "39c0925d-35f8-4097-aed1-236c493e596d",
   "metadata": {},
   "outputs": [],
   "source": [
    "# Get OpenAI Embeddings"
   ]
  },
  {
   "cell_type": "code",
   "execution_count": 13,
   "id": "b49ad973-f796-4398-b7a0-004e2ae974b8",
   "metadata": {},
   "outputs": [
    {
     "data": {
      "text/plain": [
       "True"
      ]
     },
     "execution_count": 13,
     "metadata": {},
     "output_type": "execute_result"
    }
   ],
   "source": [
    "load_dotenv()"
   ]
  },
  {
   "cell_type": "code",
   "execution_count": 14,
   "id": "bfa1dfd7-055e-4230-a672-ca663f8a5d9c",
   "metadata": {},
   "outputs": [],
   "source": [
    "client = openai.OpenAI(api_key = os.getenv(\"OPENAI_API_KEY\"))"
   ]
  },
  {
   "cell_type": "code",
   "execution_count": 15,
   "id": "56a7c5ac-ab98-4a60-b9e1-485b479cfdca",
   "metadata": {},
   "outputs": [],
   "source": [
    "#### API CALL WARNING ####\n",
    "\n",
    "def get_embedding(text, model=\"text-embedding-ada-002\"):\n",
    "    text = text.replace(\"\\n\", \" \")\n",
    "    response = client.embeddings.create(input=[text], model=model)\n",
    "    if response and hasattr(response, \"data\") and response.data:\n",
    "        embedding = response.data[0].embedding\n",
    "        return embedding\n",
    "    else:\n",
    "        print(\"Invalid response or no embedding data received.\")\n",
    "        return None"
   ]
  },
  {
   "cell_type": "code",
   "execution_count": 16,
   "id": "6885fd4c-721f-42f2-9dbf-5ff224ae7260",
   "metadata": {},
   "outputs": [],
   "source": [
    "# get_embedding(queries[\"21645374\"][\"text\"])"
   ]
  },
  {
   "cell_type": "code",
   "execution_count": 17,
   "id": "b4b759af-7dcd-4630-9869-0c9df0918682",
   "metadata": {},
   "outputs": [
    {
     "name": "stderr",
     "output_type": "stream",
     "text": [
      "Generating Query Embeddings: 100%|███████████████████████| 1000/1000 [02:50<00:00,  5.86it/s]\n"
     ]
    }
   ],
   "source": [
    "for idx, query in tqdm(queries.items(), desc = \"Generating Query Embeddings\"):\n",
    "    query_text = query[\"text\"]\n",
    "    queries[idx] = {\"text\": query_text, \"embedding\": get_embedding(query_text)}"
   ]
  },
  {
   "cell_type": "code",
   "execution_count": 18,
   "id": "77e65ecb-84be-4204-aea6-738f21c16d8e",
   "metadata": {},
   "outputs": [
    {
     "name": "stderr",
     "output_type": "stream",
     "text": [
      "Generating Documents Embeddings: 100%|███████████████████| 1000/1000 [02:56<00:00,  5.67it/s]\n"
     ]
    }
   ],
   "source": [
    "for doc_id in tqdm(docs, desc = \"Generating Documents Embeddings\"):\n",
    "    combined_text =  docs[doc_id][\"text\"]\n",
    "    docs[doc_id][\"embedding\"] = get_embedding(combined_text)"
   ]
  },
  {
   "cell_type": "code",
   "execution_count": 19,
   "id": "583b0263-b60e-4244-a13c-6248208117c3",
   "metadata": {},
   "outputs": [],
   "source": [
    "query_file_path = \"./openai_embeddings/pubmedqa/query_embeddings.pkl\"\n",
    "docs_file_path = \"./openai_embeddings/pubmedqa/doc_embeddings.pkl\""
   ]
  },
  {
   "cell_type": "code",
   "execution_count": 21,
   "id": "b0d31278-ba3e-4c8a-aae6-90dd3d0d6186",
   "metadata": {},
   "outputs": [],
   "source": [
    "with open(query_file_path, \"wb\") as f:\n",
    "    pickle.dump(queries, f)"
   ]
  },
  {
   "cell_type": "code",
   "execution_count": 22,
   "id": "21a29ad1-3769-440a-91a3-d02238e3d9b5",
   "metadata": {},
   "outputs": [],
   "source": [
    "with open(docs_file_path, \"wb\") as f:\n",
    "    pickle.dump(docs, f)"
   ]
  },
  {
   "cell_type": "code",
   "execution_count": null,
   "id": "00538415-051b-4b54-af05-c437f9e6ccce",
   "metadata": {},
   "outputs": [],
   "source": []
  },
  {
   "cell_type": "code",
   "execution_count": 23,
   "id": "e1157e8e-fbea-4bcb-a681-a4622d00c2aa",
   "metadata": {},
   "outputs": [],
   "source": [
    "# Create VectorDB Index"
   ]
  },
  {
   "cell_type": "code",
   "execution_count": 25,
   "id": "45e18b08-d5a7-48ee-a5e2-36f8d651b181",
   "metadata": {},
   "outputs": [
    {
     "name": "stdout",
     "output_type": "stream",
     "text": [
      "Document embeddings loaded successfully.\n"
     ]
    }
   ],
   "source": [
    "with open(docs_file_path, \"rb\") as file:\n",
    "    loaded_docs = pickle.load(file)\n",
    "print(\"Document embeddings loaded successfully.\")"
   ]
  },
  {
   "cell_type": "code",
   "execution_count": 26,
   "id": "e8a22fc0-f2ae-4077-8b0c-08ff519eb498",
   "metadata": {},
   "outputs": [],
   "source": [
    "data = []\n",
    "for doc in loaded_docs:\n",
    "    data.append((doc, loaded_docs[doc][\"embedding\"]))"
   ]
  },
  {
   "cell_type": "code",
   "execution_count": 27,
   "id": "f4fb12b8-c308-4a47-b82a-c2d5a5e8784f",
   "metadata": {},
   "outputs": [],
   "source": [
    "faiss_vs = FAISS.from_embeddings(\n",
    "    text_embeddings=data, \n",
    "    embedding=OpenAIEmbeddings(),\n",
    "    distance_strategy=DistanceStrategy.DOT_PRODUCT)"
   ]
  },
  {
   "cell_type": "code",
   "execution_count": 28,
   "id": "3ccb1940-d650-4d37-a21f-72848e5c6a54",
   "metadata": {},
   "outputs": [],
   "source": [
    "faiss_vs.save_local(\"./vectordb/faiss/pubmedqa/\")"
   ]
  },
  {
   "cell_type": "code",
   "execution_count": null,
   "id": "0aebf848-b020-4560-82ea-ed92dfaadcfd",
   "metadata": {},
   "outputs": [],
   "source": []
  }
 ],
 "metadata": {
  "kernelspec": {
   "display_name": "Python 3 (ipykernel)",
   "language": "python",
   "name": "python3"
  },
  "language_info": {
   "codemirror_mode": {
    "name": "ipython",
    "version": 3
   },
   "file_extension": ".py",
   "mimetype": "text/x-python",
   "name": "python",
   "nbconvert_exporter": "python",
   "pygments_lexer": "ipython3",
   "version": "3.9.6"
  }
 },
 "nbformat": 4,
 "nbformat_minor": 5
}
