{
 "cells": [
  {
   "cell_type": "code",
   "execution_count": 1,
   "id": "43e87636-0e7f-496b-a797-68b544027561",
   "metadata": {},
   "outputs": [],
   "source": [
    "from dotenv import load_dotenv\n",
    "from langchain.embeddings import OpenAIEmbeddings\n",
    "from langchain.llms import OpenAI\n",
    "from langchain.prompts import ChatPromptTemplate\n",
    "from langchain.schema.output_parser import StrOutputParser\n",
    "from langchain.schema.runnable import RunnablePassthrough\n",
    "from langchain.vectorstores import FAISS\n",
    "\n",
    "import os\n",
    "import pickle"
   ]
  },
  {
   "cell_type": "code",
   "execution_count": 2,
   "id": "f7452414-aab4-4ebf-8055-cb7b60afaae8",
   "metadata": {},
   "outputs": [],
   "source": [
    "# Load index from file"
   ]
  },
  {
   "cell_type": "code",
   "execution_count": 3,
   "id": "540fac6c-474e-4175-bab8-e38e082dbec4",
   "metadata": {},
   "outputs": [
    {
     "data": {
      "text/plain": [
       "True"
      ]
     },
     "execution_count": 3,
     "metadata": {},
     "output_type": "execute_result"
    }
   ],
   "source": [
    "load_dotenv()"
   ]
  },
  {
   "cell_type": "code",
   "execution_count": 4,
   "id": "de608433-12b4-4d78-8268-23f595395125",
   "metadata": {},
   "outputs": [],
   "source": [
    "loaded_faiss_vs = FAISS.load_local(\n",
    "    folder_path=\"./vectordb/faiss/nfcorpus/\",\n",
    "    embeddings=OpenAIEmbeddings())"
   ]
  },
  {
   "cell_type": "code",
   "execution_count": 5,
   "id": "a0644015-4725-4ad5-a0fb-49438b1edffe",
   "metadata": {},
   "outputs": [],
   "source": [
    "retriever = loaded_faiss_vs.as_retriever(search_kwargs={'k': 5})"
   ]
  },
  {
   "cell_type": "code",
   "execution_count": null,
   "id": "c8742638-b6f2-42f8-871e-2fcf556da058",
   "metadata": {},
   "outputs": [],
   "source": []
  },
  {
   "cell_type": "code",
   "execution_count": 6,
   "id": "c2c02641-d55d-47c4-83f9-c2f5f2206fa4",
   "metadata": {},
   "outputs": [],
   "source": [
    "# Define the RAG pipeline"
   ]
  },
  {
   "cell_type": "code",
   "execution_count": 7,
   "id": "fda959eb-26a9-4b9a-9438-b6c579ce5216",
   "metadata": {},
   "outputs": [],
   "source": [
    "model = 'gpt-3.5-turbo-instruct'\n",
    "llm = OpenAI(model_name=model, openai_api_key=os.getenv(\"OPENAI_API_KEY\"))"
   ]
  },
  {
   "cell_type": "code",
   "execution_count": 8,
   "id": "6e5e8dea-2e7e-4cdd-882b-0b4e2101fa6f",
   "metadata": {},
   "outputs": [],
   "source": [
    "template = \"\"\"Answer the question or Explain the topic given this additional context: {context}\n",
    "Question: {question}\"\"\""
   ]
  },
  {
   "cell_type": "code",
   "execution_count": 9,
   "id": "e89e4cb9-dc00-4e85-9b97-cf2feb30256d",
   "metadata": {},
   "outputs": [],
   "source": [
    "prompt = ChatPromptTemplate.from_template(template)"
   ]
  },
  {
   "cell_type": "code",
   "execution_count": 10,
   "id": "e6f04347-22d2-4fc1-8c71-4f99d12d6950",
   "metadata": {},
   "outputs": [
    {
     "name": "stdout",
     "output_type": "stream",
     "text": [
      "Documents loaded successfully.\n"
     ]
    }
   ],
   "source": [
    "docs_file_path = './dataset/nfcorpus/documents.pkl'\n",
    "with open(docs_file_path, 'rb') as file:\n",
    "    docs = pickle.load(file)\n",
    "print(\"Documents loaded successfully.\")"
   ]
  },
  {
   "cell_type": "code",
   "execution_count": 11,
   "id": "c72f8afc-a0c3-4985-88c7-3c2e10010d3b",
   "metadata": {},
   "outputs": [],
   "source": [
    "def format_docs(_docs):\n",
    "    ls = []\n",
    "    for doc in _docs:\n",
    "        if doc.page_content in docs:\n",
    "            ls.append(docs[doc.page_content][\"text\"][:800])\n",
    "    return ls"
   ]
  },
  {
   "cell_type": "code",
   "execution_count": 12,
   "id": "f8bc8a2f-8b2a-45ca-a958-58bfccfbc9fb",
   "metadata": {},
   "outputs": [],
   "source": [
    "chain = ({\"context\": retriever | format_docs, \"question\": RunnablePassthrough()} \n",
    "         | prompt \n",
    "         | llm \n",
    "         | StrOutputParser())"
   ]
  },
  {
   "cell_type": "code",
   "execution_count": null,
   "id": "111a2ec6-7b54-4b3a-b135-df7f954a573c",
   "metadata": {},
   "outputs": [],
   "source": []
  },
  {
   "cell_type": "code",
   "execution_count": 13,
   "id": "1eab7ac2-ca86-4a5d-9384-bf1b5a942670",
   "metadata": {},
   "outputs": [],
   "source": [
    "# Run the RAG pipeline"
   ]
  },
  {
   "cell_type": "code",
   "execution_count": 14,
   "id": "6dc823c0-dc3c-4617-b965-400419b9d9c8",
   "metadata": {},
   "outputs": [
    {
     "name": "stdout",
     "output_type": "stream",
     "text": [
      "Query embeddings loaded successfully.\n"
     ]
    }
   ],
   "source": [
    "query_file_path = './openai_embeddings/nfcorpus/query_embeddings.pkl'\n",
    "with open(query_file_path, 'rb') as file:\n",
    "    loaded_queries = pickle.load(file)\n",
    "print(\"Query embeddings loaded successfully.\")"
   ]
  },
  {
   "cell_type": "code",
   "execution_count": 15,
   "id": "5ea801df-49f0-4c71-ad34-0ac010d71cc3",
   "metadata": {},
   "outputs": [
    {
     "data": {
      "text/plain": [
       "'\\n\\nThe answer is still unclear. While some studies have suggested a potential link between statin use and decreased risk of breast cancer, others have found conflicting results. More research is needed to fully understand the relationship between statins and breast cancer risk.'"
      ]
     },
     "execution_count": 15,
     "metadata": {},
     "output_type": "execute_result"
    }
   ],
   "source": [
    "chain.invoke(loaded_queries[\"PLAIN-2\"][\"text\"])"
   ]
  },
  {
   "cell_type": "code",
   "execution_count": null,
   "id": "ea18a59e-4674-487c-a65d-1005392fa410",
   "metadata": {},
   "outputs": [],
   "source": []
  }
 ],
 "metadata": {
  "kernelspec": {
   "display_name": "Python 3 (ipykernel)",
   "language": "python",
   "name": "python3"
  },
  "language_info": {
   "codemirror_mode": {
    "name": "ipython",
    "version": 3
   },
   "file_extension": ".py",
   "mimetype": "text/x-python",
   "name": "python",
   "nbconvert_exporter": "python",
   "pygments_lexer": "ipython3",
   "version": "3.9.6"
  }
 },
 "nbformat": 4,
 "nbformat_minor": 5
}
