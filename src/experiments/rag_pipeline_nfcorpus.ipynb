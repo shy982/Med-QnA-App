{
 "cells": [
  {
   "cell_type": "code",
   "execution_count": 1,
   "id": "43e87636-0e7f-496b-a797-68b544027561",
   "metadata": {},
   "outputs": [],
   "source": [
    "from dotenv import load_dotenv\n",
    "from langchain.embeddings import OpenAIEmbeddings\n",
    "from langchain.llms import OpenAI\n",
    "from langchain.prompts import ChatPromptTemplate\n",
    "from langchain.schema.output_parser import StrOutputParser\n",
    "from langchain.schema.runnable import RunnablePassthrough\n",
    "from langchain.vectorstores import FAISS\n",
    "\n",
    "import os\n",
    "import pickle"
   ]
  },
  {
   "cell_type": "code",
   "execution_count": 2,
   "id": "f7452414-aab4-4ebf-8055-cb7b60afaae8",
   "metadata": {},
   "outputs": [],
   "source": [
    "# Load index from file"
   ]
  },
  {
   "cell_type": "code",
   "execution_count": 3,
   "id": "540fac6c-474e-4175-bab8-e38e082dbec4",
   "metadata": {},
   "outputs": [
    {
     "data": {
      "text/plain": [
       "True"
      ]
     },
     "execution_count": 3,
     "metadata": {},
     "output_type": "execute_result"
    }
   ],
   "source": [
    "load_dotenv()"
   ]
  },
  {
   "cell_type": "code",
   "execution_count": 4,
   "id": "de608433-12b4-4d78-8268-23f595395125",
   "metadata": {},
   "outputs": [],
   "source": [
    "loaded_faiss_vs = FAISS.load_local(\n",
    "    folder_path=\"./vectordb/faiss/nfcorpus/\",\n",
    "    embeddings=OpenAIEmbeddings())"
   ]
  },
  {
   "cell_type": "code",
   "execution_count": 5,
   "id": "a0644015-4725-4ad5-a0fb-49438b1edffe",
   "metadata": {},
   "outputs": [],
   "source": [
    "retriever = loaded_faiss_vs.as_retriever(search_kwargs={'k': 5})"
   ]
  },
  {
   "cell_type": "code",
   "execution_count": null,
   "id": "c8742638-b6f2-42f8-871e-2fcf556da058",
   "metadata": {},
   "outputs": [],
   "source": []
  },
  {
   "cell_type": "code",
   "execution_count": 6,
   "id": "c2c02641-d55d-47c4-83f9-c2f5f2206fa4",
   "metadata": {},
   "outputs": [],
   "source": [
    "# Define the RAG pipeline"
   ]
  },
  {
   "cell_type": "code",
   "execution_count": 7,
   "id": "fda959eb-26a9-4b9a-9438-b6c579ce5216",
   "metadata": {},
   "outputs": [],
   "source": [
    "model = 'gpt-3.5-turbo-instruct'\n",
    "llm = OpenAI(model_name=model, openai_api_key=os.getenv(\"OPENAI_API_KEY\"))"
   ]
  },
  {
   "cell_type": "code",
   "execution_count": 8,
   "id": "6e5e8dea-2e7e-4cdd-882b-0b4e2101fa6f",
   "metadata": {},
   "outputs": [],
   "source": [
    "template = \"\"\"Answer the question or Explain the topic given this additional context: {context}\n",
    "Question: {question}\"\"\""
   ]
  },
  {
   "cell_type": "code",
   "execution_count": 9,
   "id": "e89e4cb9-dc00-4e85-9b97-cf2feb30256d",
   "metadata": {},
   "outputs": [],
   "source": [
    "prompt = ChatPromptTemplate.from_template(template)"
   ]
  },
  {
   "cell_type": "code",
   "execution_count": 10,
   "id": "e6f04347-22d2-4fc1-8c71-4f99d12d6950",
   "metadata": {},
   "outputs": [
    {
     "name": "stdout",
     "output_type": "stream",
     "text": [
      "Documents loaded successfully.\n"
     ]
    }
   ],
   "source": [
    "docs_file_path = './dataset/nfcorpus/documents.pkl'\n",
    "with open(docs_file_path, 'rb') as file:\n",
    "    docs = pickle.load(file)\n",
    "print(\"Documents loaded successfully.\")"
   ]
  },
  {
   "cell_type": "code",
   "execution_count": 11,
   "id": "c72f8afc-a0c3-4985-88c7-3c2e10010d3b",
   "metadata": {},
   "outputs": [],
   "source": [
    "def format_docs(_docs):\n",
    "    ls = []\n",
    "    for doc in _docs:\n",
    "        if doc.page_content in docs:\n",
    "            ls.append(docs[doc.page_content][\"text\"][:800])\n",
    "    return ls"
   ]
  },
  {
   "cell_type": "code",
   "execution_count": 12,
   "id": "f8bc8a2f-8b2a-45ca-a958-58bfccfbc9fb",
   "metadata": {},
   "outputs": [],
   "source": [
    "chain = ({\"context\": retriever | format_docs, \"question\": RunnablePassthrough()} \n",
    "         | prompt \n",
    "         | llm \n",
    "         | StrOutputParser())"
   ]
  },
  {
   "cell_type": "code",
   "execution_count": null,
   "id": "111a2ec6-7b54-4b3a-b135-df7f954a573c",
   "metadata": {},
   "outputs": [],
   "source": []
  },
  {
   "cell_type": "code",
   "execution_count": 13,
   "id": "1eab7ac2-ca86-4a5d-9384-bf1b5a942670",
   "metadata": {},
   "outputs": [],
   "source": [
    "# Run the RAG pipeline"
   ]
  },
  {
   "cell_type": "code",
   "execution_count": 14,
   "id": "6dc823c0-dc3c-4617-b965-400419b9d9c8",
   "metadata": {},
   "outputs": [
    {
     "name": "stdout",
     "output_type": "stream",
     "text": [
      "Query embeddings loaded successfully.\n"
     ]
    }
   ],
   "source": [
    "query_file_path = './openai_embeddings/nfcorpus/query_embeddings.pkl'\n",
    "with open(query_file_path, 'rb') as file:\n",
    "    loaded_queries = pickle.load(file)\n",
    "print(\"Query embeddings loaded successfully.\")"
   ]
  },
  {
   "cell_type": "code",
   "execution_count": null,
   "id": "2beb653a-ece4-404e-a096-9ac85d7cdaa1",
   "metadata": {},
   "outputs": [],
   "source": [
    "loaded_queries[\"PLAIN-2\"][\"text\"]"
   ]
  },
  {
   "cell_type": "code",
   "execution_count": 15,
   "id": "5ea801df-49f0-4c71-ad34-0ac010d71cc3",
   "metadata": {},
   "outputs": [
    {
     "data": {
      "text/plain": [
       "'\\n\\nAnswer: The relationship between statin use and breast cancer risk is still inconclusive, with conflicting evidence from various epidemiological studies. While some studies suggest that statins may decrease the risk of breast cancer, others have found no significant association or even potential harmful effects. To better understand this relationship, a meta-analysis was conducted which combined data from multiple observational studies. Subgroup analyses, sensitivity analysis, and cumulative analyses were also performed, but no clear conclusion could be drawn. Additionally, a population-based case-control study and a large cohort study both found no significant association between statin use and breast cancer risk. Therefore, the current evidence does not support the claim that statin drugs cause breast cancer.'"
      ]
     },
     "execution_count": 15,
     "metadata": {},
     "output_type": "execute_result"
    }
   ],
   "source": [
    "chain.invoke(loaded_queries[\"PLAIN-2\"][\"text\"])"
   ]
  },
  {
   "cell_type": "code",
   "execution_count": 38,
   "id": "34c4e02f-a39e-4b3d-aa9c-f79a6726f598",
   "metadata": {},
   "outputs": [
    {
     "data": {
      "text/plain": [
       "'How to Reduce Exposure to Alkylphenols Through Your Diet'"
      ]
     },
     "execution_count": 38,
     "metadata": {},
     "output_type": "execute_result"
    }
   ],
   "source": [
    "loaded_queries[\"PLAIN-23\"][\"text\"]"
   ]
  },
  {
   "cell_type": "code",
   "execution_count": 39,
   "id": "ea18a59e-4674-487c-a65d-1005392fa410",
   "metadata": {},
   "outputs": [
    {
     "data": {
      "text/plain": [
       "'\\n\\nOne potential way to reduce exposure to alkylphenols through your diet is by implementing a trial period of eliminating artificial colorings and preservatives. This is supported by evidence that suggests polyphenols, found in plants and foods such as cabbage, broccoli, green tea, chili peppers, apples, red wine, peanuts, and turmeric, have anti-inflammatory properties that can lower the risk of cardiovascular disease and other chronic diseases. Additionally, following a diet rich in polyphenols may also help decrease exposure to other environmental contaminants, such as antibiotics and phthalates, which can be inadvertently consumed through food. There is ongoing research on the potential therapeutic effects of polyphenols in managing allergic disorders, which may further contribute to reducing exposure to alkylphenols through the diet.'"
      ]
     },
     "execution_count": 39,
     "metadata": {},
     "output_type": "execute_result"
    }
   ],
   "source": [
    "chain.invoke(loaded_queries[\"PLAIN-23\"][\"text\"])"
   ]
  },
  {
   "cell_type": "code",
   "execution_count": 40,
   "id": "dc089bae-cca6-4675-91ae-c73bef27c609",
   "metadata": {},
   "outputs": [
    {
     "data": {
      "text/plain": [
       "'What’s Driving America’s Obesity Problem?'"
      ]
     },
     "execution_count": 40,
     "metadata": {},
     "output_type": "execute_result"
    }
   ],
   "source": [
    "loaded_queries[\"PLAIN-33\"][\"text\"]"
   ]
  },
  {
   "cell_type": "code",
   "execution_count": 41,
   "id": "39d6714b-7819-473c-9a9b-187beced441a",
   "metadata": {},
   "outputs": [
    {
     "data": {
      "text/plain": [
       "'\\n\\nThe major drivers of the obesity epidemic are increased energy intake and reduced physical activity, which have led to a reliance on processed, energy-dense foods and a decrease in physical activity levels. This shift in diet and activity began in the 1970s and has been seen in both low and high income countries. This has resulted in a rise in obesity and related diseases such as diabetes, heart disease, and cancer. To address this issue, a global strategy is needed to promote healthy eating and increase physical activity levels. Failure to address this issue may lead to a significant increase in obesity-related health and economic consequences in the next two decades.'"
      ]
     },
     "execution_count": 41,
     "metadata": {},
     "output_type": "execute_result"
    }
   ],
   "source": [
    "chain.invoke(loaded_queries[\"PLAIN-33\"][\"text\"])"
   ]
  },
  {
   "cell_type": "code",
   "execution_count": 42,
   "id": "bda6fe20-29a0-46a8-b2bc-229e3eb9dc36",
   "metadata": {},
   "outputs": [
    {
     "data": {
      "text/plain": [
       "'What Do Meat Purge and Cola Have in Common?'"
      ]
     },
     "execution_count": 42,
     "metadata": {},
     "output_type": "execute_result"
    }
   ],
   "source": [
    "loaded_queries[\"PLAIN-78\"][\"text\"]"
   ]
  },
  {
   "cell_type": "code",
   "execution_count": 43,
   "id": "f700f468-8214-4b19-9bbb-d4f2ab2ec292",
   "metadata": {},
   "outputs": [
    {
     "data": {
      "text/plain": [
       "'\\n\\nThey are both associated with an increased risk of colorectal cancer.'"
      ]
     },
     "execution_count": 43,
     "metadata": {},
     "output_type": "execute_result"
    }
   ],
   "source": [
    "chain.invoke(loaded_queries[\"PLAIN-78\"][\"text\"])"
   ]
  },
  {
   "cell_type": "code",
   "execution_count": 44,
   "id": "14f1082c-fec0-4541-949d-d56d79b1126e",
   "metadata": {},
   "outputs": [
    {
     "data": {
      "text/plain": [
       "'Are Dental X-Rays Safe?'"
      ]
     },
     "execution_count": 44,
     "metadata": {},
     "output_type": "execute_result"
    }
   ],
   "source": [
    "loaded_queries[\"PLAIN-143\"][\"text\"]"
   ]
  },
  {
   "cell_type": "code",
   "execution_count": 45,
   "id": "e37d13de-f0a1-403d-94ef-6d6395f8f8f0",
   "metadata": {},
   "outputs": [
    {
     "data": {
      "text/plain": [
       "'\\n\\nAnswer: While diagnostic imaging, including dental x-rays, is an important tool in modern healthcare, there are potential risks associated with exposure to ionizing radiation. The National Council on Radiation Protection & Measurements, Centers for Disease Control and Prevention, and U.S. Food and Drug Administration have all published recommendations and guidelines for reducing these risks in dental settings. These include selecting patients carefully and using low-dose techniques, such as digital sensors and collimation, to minimize exposure. However, a recent study suggests a potential link between dental x-rays and brain tumors, highlighting the importance of informed decision making and proper communication of risks to patients. Overall, while the risk of developing cancer from diagnostic radiation is low, it is important for dentists to follow recommended protocols and for patients to be fully informed about the potential risks.'"
      ]
     },
     "execution_count": 45,
     "metadata": {},
     "output_type": "execute_result"
    }
   ],
   "source": [
    "chain.invoke(loaded_queries[\"PLAIN-143\"][\"text\"])"
   ]
  },
  {
   "cell_type": "code",
   "execution_count": 46,
   "id": "cde46e52-d025-4e54-bbc6-aa143d86037f",
   "metadata": {},
   "outputs": [
    {
     "data": {
      "text/plain": [
       "'Breast Cancer & Alcohol: How Much is Safe?'"
      ]
     },
     "execution_count": 46,
     "metadata": {},
     "output_type": "execute_result"
    }
   ],
   "source": [
    "loaded_queries[\"PLAIN-165\"][\"text\"]"
   ]
  },
  {
   "cell_type": "code",
   "execution_count": 47,
   "id": "ec8088e7-5975-4f4b-9c81-fc762d87ba6a",
   "metadata": {},
   "outputs": [
    {
     "data": {
      "text/plain": [
       "'\\n\\nAnswer: There is conflicting evidence on the relationship between alcohol consumption and breast cancer risk. Some studies have shown that moderate to heavy alcohol consumption may increase the risk of breast cancer, while others have found no significant association. The latest research suggests that even light alcohol consumption, defined as one drink or less per day, may slightly increase the risk of breast cancer. However, the overall risk is still relatively low and it is unclear exactly how much alcohol is considered safe. It is important for individuals to make informed decisions about their alcohol intake based on their individual health and risk factors.'"
      ]
     },
     "execution_count": 47,
     "metadata": {},
     "output_type": "execute_result"
    }
   ],
   "source": [
    "chain.invoke(loaded_queries[\"PLAIN-165\"][\"text\"])"
   ]
  },
  {
   "cell_type": "code",
   "execution_count": null,
   "id": "4644d4d7-174d-4e19-a2f9-1863040e35f5",
   "metadata": {},
   "outputs": [],
   "source": []
  },
  {
   "cell_type": "code",
   "execution_count": null,
   "id": "213428d8-af79-491c-b102-54392296be77",
   "metadata": {},
   "outputs": [],
   "source": []
  }
 ],
 "metadata": {
  "kernelspec": {
   "display_name": "Python 3 (ipykernel)",
   "language": "python",
   "name": "python3"
  },
  "language_info": {
   "codemirror_mode": {
    "name": "ipython",
    "version": 3
   },
   "file_extension": ".py",
   "mimetype": "text/x-python",
   "name": "python",
   "nbconvert_exporter": "python",
   "pygments_lexer": "ipython3",
   "version": "3.9.6"
  }
 },
 "nbformat": 4,
 "nbformat_minor": 5
}
